{
 "cells": [
  {
   "cell_type": "markdown",
   "metadata": {},
   "source": [
    "# 소수 찾기 프로그램 튜토리얼\n",
    "\n",
    "이 노트북에서는 다양한 방법으로 소수를 찾는 알고리즘을 학습합니다.\n",
    "\n",
    "**학습 목표:**\n",
    "- 소수의 개념 이해\n",
    "- 효율적인 소수 판별 알고리즘 학습\n",
    "- 알고리즘 성능 비교 및 최적화"
   ]
  },
  {
   "cell_type": "code",
   "execution_count": null,
   "metadata": {},
   "outputs": [],
   "source": [
    "import math\n",
    "import time\n",
    "import matplotlib.pyplot as plt\n",
    "import numpy as np\n",
    "from typing import List"
   ]
  },
  {
   "cell_type": "markdown",
   "metadata": {},
   "source": [
    "## 1. 기본 소수 판별 함수"
   ]
  },
  {
   "cell_type": "code",
   "execution_count": null,
   "metadata": {},
   "outputs": [],
   "source": [
    "def is_prime_basic(n: int) -> bool:\n",
    "    \"\"\"기본적인 소수 판별 함수\"\"\"\n",
    "    if n < 2:\n",
    "        return False\n",
    "    if n == 2:\n",
    "        return True\n",
    "    if n % 2 == 0:\n",
    "        return False\n",
    "    \n",
    "    for i in range(3, int(math.sqrt(n)) + 1, 2):\n",
    "        if n % i == 0:\n",
    "            return False\n",
    "    return True\n",
    "\n",
    "# 테스트\n",
    "test_numbers = [2, 3, 4, 17, 25, 29, 97]\n",
    "for num in test_numbers:\n",
    "    print(f\"{num}: {'소수' if is_prime_basic(num) else '합성수'}\")"
   ]
  },
  {
   "cell_type": "markdown",
   "metadata": {},
   "source": [
    "## 2. 최적화된 소수 판별 함수"
   ]
  },
  {
   "cell_type": "code",
   "execution_count": null,
   "metadata": {},
   "outputs": [],
   "source": [
    "def is_prime_optimized(n: int) -> bool:\n",
    "    \"\"\"6k±1 최적화를 적용한 소수 판별 함수\"\"\"\n",
    "    if n < 2:\n",
    "        return False\n",
    "    if n in (2, 3):\n",
    "        return True\n",
    "    if n % 2 == 0 or n % 3 == 0:\n",
    "        return False\n",
    "    \n",
    "    i = 5\n",
    "    while i * i <= n:\n",
    "        if n % i == 0 or n % (i + 2) == 0:\n",
    "            return False\n",
    "        i += 6\n",
    "    return True"
   ]
  },
  {
   "cell_type": "markdown",
   "metadata": {},
   "source": [
    "## 3. 에라토스테네스의 체"
   ]
  },
  {
   "cell_type": "code",
   "execution_count": null,
   "metadata": {},
   "outputs": [],
   "source": [
    "def sieve_of_eratosthenes(limit: int) -> List[int]:\n",
    "    \"\"\"에라토스테네스의 체를 이용한 소수 찾기\"\"\"\n",
    "    if limit < 2:\n",
    "        return []\n",
    "    \n",
    "    is_prime = [True] * (limit + 1)\n",
    "    is_prime[0] = is_prime[1] = False\n",
    "    \n",
    "    for i in range(2, int(math.sqrt(limit)) + 1):\n",
    "        if is_prime[i]:\n",
    "            for j in range(i * i, limit + 1, i):\n",
    "                is_prime[j] = False\n",
    "    \n",
    "    return [num for num in range(2, limit + 1) if is_prime[num]]\n",
    "\n",
    "# 100까지의 소수 찾기\n",
    "primes_100 = sieve_of_eratosthenes(100)\n",
    "print(f\"100까지의 소수 ({len(primes_100)}개):\")\n",
    "print(primes_100)"
   ]
  },
  {
   "cell_type": "markdown",
   "metadata": {},
   "source": [
    "## 4. 소수 분포 시각화"
   ]
  },
  {
   "cell_type": "code",
   "execution_count": null,
   "metadata": {},
   "outputs": [],
   "source": [
    "# 소수 분포 시각화\n",
    "def visualize_prime_distribution(limit: int = 1000):\n",
    "    \"\"\"소수 분포를 시각화\"\"\"\n",
    "    primes = sieve_of_eratosthenes(limit)\n",
    "    \n",
    "    # 그래프 설정\n",
    "    plt.figure(figsize=(12, 8))\n",
    "    \n",
    "    # 1. 소수 위치 표시\n",
    "    plt.subplot(2, 2, 1)\n",
    "    plt.scatter(primes, [1] * len(primes), alpha=0.6, s=1)\n",
    "    plt.title(f'소수 분포 (1 ~ {limit})')\n",
    "    plt.xlabel('숫자')\n",
    "    plt.ylabel('소수')\n",
    "    plt.grid(True, alpha=0.3)\n",
    "    \n",
    "    # 2. 소수 개수 누적 그래프\n",
    "    plt.subplot(2, 2, 2)\n",
    "    x_vals = list(range(2, limit + 1))\n",
    "    prime_counts = []\n",
    "    count = 0\n",
    "    prime_set = set(primes)\n",
    "    \n",
    "    for i in x_vals:\n",
    "        if i in prime_set:\n",
    "            count += 1\n",
    "        prime_counts.append(count)\n",
    "    \n",
    "    plt.plot(x_vals, prime_counts)\n",
    "    plt.title('누적 소수 개수')\n",
    "    plt.xlabel('숫자')\n",
    "    plt.ylabel('누적 소수 개수')\n",
    "    plt.grid(True, alpha=0.3)\n",
    "    \n",
    "    # 3. 소수 간격 히스토그램\n",
    "    plt.subplot(2, 2, 3)\n",
    "    gaps = [primes[i+1] - primes[i] for i in range(len(primes)-1)]\n",
    "    plt.hist(gaps, bins=20, alpha=0.7, edgecolor='black')\n",
    "    plt.title('소수 간격 분포')\n",
    "    plt.xlabel('간격')\n",
    "    plt.ylabel('빈도')\n",
    "    plt.grid(True, alpha=0.3)\n",
    "    \n",
    "    # 4. 소수 밀도\n",
    "    plt.subplot(2, 2, 4)\n",
    "    window_size = limit // 20\n",
    "    densities = []\n",
    "    x_density = []\n",
    "    \n",
    "    for i in range(window_size, limit, window_size):\n",
    "        window_primes = [p for p in primes if i-window_size <= p < i]\n",
    "        density = len(window_primes) / window_size\n",
    "        densities.append(density)\n",
    "        x_density.append(i)\n",
    "    \n",
    "    plt.plot(x_density, densities, marker='o')\n",
    "    plt.title('소수 밀도 변화')\n",
    "    plt.xlabel('숫자 범위')\n",
    "    plt.ylabel('소수 밀도')\n",
    "    plt.grid(True, alpha=0.3)\n",
    "    \n",
    "    plt.tight_layout()\n",
    "    plt.show()\n",
    "    \n",
    "    print(f\"\\n📊 통계 정보:\")\n",
    "    print(f\"총 소수 개수: {len(primes)}\")\n",
    "    print(f\"가장 큰 소수: {max(primes)}\")\n",
    "    print(f\"평균 소수 간격: {np.mean(gaps):.2f}\")\n",
    "    print(f\"최대 소수 간격: {max(gaps)}\")\n",
    "\n",
    "# 시각화 실행\n",
    "visualize_prime_distribution(1000)"
   ]
  },
  {
   "cell_type": "markdown",
   "metadata": {},
   "source": [
    "## 5. 성능 비교 테스트"
   ]
  },
  {
   "cell_type": "code",
   "execution_count": null,
   "metadata": {},
   "outputs": [],
   "source": [
    "def benchmark_algorithms():\n",
    "    \"\"\"다양한 소수 찾기 알고리즘의 성능 비교\"\"\"\n",
    "    test_limits = [1000, 5000, 10000, 50000]\n",
    "    \n",
    "    results = {\n",
    "        'limit': [],\n",
    "        'basic_time': [],\n",
    "        'optimized_time': [],\n",
    "        'sieve_time': []\n",
    "    }\n",
    "    \n",
    "    for limit in test_limits:\n",
    "        print(f\"테스트 중: {limit}...\")\n",
    "        \n",
    "        # 기본 함수\n",
    "        start = time.time()\n",
    "        basic_primes = [n for n in range(2, limit + 1) if is_prime_basic(n)]\n",
    "        basic_time = time.time() - start\n",
    "        \n",
    "        # 최적화 함수\n",
    "        start = time.time()\n",
    "        opt_primes = [n for n in range(2, limit + 1) if is_prime_optimized(n)]\n",
    "        opt_time = time.time() - start\n",
    "        \n",
    "        # 에라토스테네스의 체\n",
    "        start = time.time()\n",
    "        sieve_primes = sieve_of_eratosthenes(limit)\n",
    "        sieve_time = time.time() - start\n",
    "        \n",
    "        results['limit'].append(limit)\n",
    "        results['basic_time'].append(basic_time)\n",
    "        results['optimized_time'].append(opt_time)\n",
    "        results['sieve_time'].append(sieve_time)\n",
    "    \n",
    "    # 결과 시각화\n",
    "    plt.figure(figsize=(10, 6))\n",
    "    plt.plot(results['limit'], results['basic_time'], 'ro-', label='기본 함수')\n",
    "    plt.plot(results['limit'], results['optimized_time'], 'go-', label='최적화 함수')\n",
    "    plt.plot(results['limit'], results['sieve_time'], 'bo-', label='에라토스테네스의 체')\n",
    "    \n",
    "    plt.title('소수 찾기 알고리즘 성능 비교')\n",
    "    plt.xlabel('숫자 범위')\n",
    "    plt.ylabel('실행 시간 (초)')\n",
    "    plt.legend()\n",
    "    plt.grid(True, alpha=0.3)\n",
    "    plt.show()\n",
    "    \n",
    "    return results\n",
    "\n",
    "# 벤치마크 실행\n",
    "benchmark_results = benchmark_algorithms()"
   ]
  },
  {
   "cell_type": "markdown",
   "metadata": {},
   "source": [
    "## 6. 실습 문제\n",
    "\n",
    "### 문제 1: 쌍둥이 소수 찾기\n",
    "쌍둥이 소수(Twin Primes)는 차이가 2인 소수 쌍입니다. (예: 3과 5, 5와 7, 11과 13)\n",
    "\n",
    "1000까지의 쌍둥이 소수를 모두 찾아보세요."
   ]
  },
  {
   "cell_type": "code",
   "execution_count": null,
   "metadata": {},
   "outputs": [],
   "source": [
    "def find_twin_primes(limit: int) -> List[tuple]:\n",
    "    \"\"\"쌍둥이 소수 찾기\"\"\"\n",
    "    # 여기에 코드를 작성하세요\n",
    "    pass\n",
    "\n",
    "# 테스트\n",
    "twin_primes = find_twin_primes(1000)\n",
    "print(f\"1000까지의 쌍둥이 소수: {len(twin_primes)}쌍\")\n",
    "print(twin_primes[:10])  # 처음 10쌍만 출력"
   ]
  },
  {
   "cell_type": "markdown",
   "metadata": {},
   "source": [
    "### 문제 2: 골드바흐 추측 검증\n",
    "골드바흐 추측: 2보다 큰 모든 짝수는 두 소수의 합으로 표현될 수 있다.\n",
    "\n",
    "100까지의 모든 짝수에 대해 골드바흐 추측을 검증해보세요."
   ]
  },
  {
   "cell_type": "code",
   "execution_count": null,
   "metadata": {},
   "outputs": [],
   "source": [
    "def verify_goldbach_conjecture(limit: int) -> bool:\n",
    "    \"\"\"골드바흐 추측 검증\"\"\"\n",
    "    # 여기에 코드를 작성하세요\n",
    "    pass\n",
    "\n",
    "# 테스트\n",
    "result = verify_goldbach_conjecture(100)\n",
    "print(f\"100까지의 골드바흐 추측 검증: {'성공' if result else '실패'}\")"
   ]
  }
 ],
 "metadata": {
  "kernelspec": {
   "display_name": "Python 3",
   "language": "python",
   "name": "python3"
  },
  "language_info": {
   "codemirror_mode": {
    "name": "ipython",
    "version": 3
   },
   "file_extension": ".py",
   "mimetype": "text/x-python",
   "name": "python",
   "nbconvert_exporter": "python",
   "pygments_lexer": "ipython3",
   "version": "3.8.0"
  }
 },
 "nbformat": 4,
 "nbformat_minor": 4
}
